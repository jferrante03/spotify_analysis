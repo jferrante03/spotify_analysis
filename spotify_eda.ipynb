{
  "nbformat": 4,
  "nbformat_minor": 0,
  "metadata": {
    "colab": {
      "provenance": []
    },
    "kernelspec": {
      "name": "python3",
      "display_name": "Python 3"
    },
    "language_info": {
      "name": "python"
    }
  },
  "cells": [
    {
      "cell_type": "markdown",
      "source": [
        "## Data Loading and Cleaning"
      ],
      "metadata": {
        "id": "OlXwd-ROcPCo"
      }
    },
    {
      "cell_type": "code",
      "source": [
        "# Import packages\n",
        "import numpy as np\n",
        "import pandas as pd\n",
        "import os\n",
        "from pyspark import SparkConf, SparkContext\n",
        "from pyspark.sql import SparkSession, SQLContext\n",
        "from pyspark.sql.types import *\n",
        "import pyspark.sql.functions as F\n",
        "from pyspark.sql.functions import col, explode, regexp_replace, split"
      ],
      "metadata": {
        "id": "eoud_Xh6cDze"
      },
      "execution_count": null,
      "outputs": []
    },
    {
      "cell_type": "code",
      "source": [
        "# Create a Spark Session\n",
        "spark = SparkSession.builder.master(\"local[2]\").appName(\"Spotify-Huge-Dataset\").getOrCreate() #.enableHiveSupport()\n",
        "spark"
      ],
      "metadata": {
        "id": "cyRLhkoPcFqm"
      },
      "execution_count": null,
      "outputs": []
    },
    {
      "cell_type": "code",
      "source": [
        "# Load and Read File\n",
        "df = spark.read.csv('/FileStore/tables/tracks.csv', header=True)"
      ],
      "metadata": {
        "id": "PXmxPpvrdHj7"
      },
      "execution_count": null,
      "outputs": []
    },
    {
      "cell_type": "code",
      "source": [
        "# Remove [''] from the 'artists' column\n",
        "# Remove spaces after commas\n",
        "# Create a new column 'artists1'\n",
        "df1 = df.select(\"artists\", regexp_replace(regexp_replace(col(\"artists\"), \"[\\\\[\\\\]']\", \"\"), \",\\\\s*\", \",\").alias(\"artists1\"))"
      ],
      "metadata": {
        "id": "qkU8I0RSdfqy"
      },
      "execution_count": null,
      "outputs": []
    },
    {
      "cell_type": "code",
      "source": [
        "# Explode the 'artist' column to create separate rows\n",
        "df1 = df1.select(\"artists\", \"artists1\", explode(split(\"artists1\", \",\")).alias(\"artist\"))"
      ],
      "metadata": {
        "id": "5_ZxESHidmg3"
      },
      "execution_count": null,
      "outputs": []
    },
    {
      "cell_type": "code",
      "source": [
        "df_joined = df.join(df1, on='artists', how='left')"
      ],
      "metadata": {
        "id": "K2vlGk6idoP0"
      },
      "execution_count": null,
      "outputs": []
    },
    {
      "cell_type": "code",
      "source": [
        "df_joined = df_joined.withColumn(\"release_date\", F.to_date(\"release_date\", \"yyyy-MM-dd\"))"
      ],
      "metadata": {
        "id": "vdwSh7hedryQ"
      },
      "execution_count": null,
      "outputs": []
    },
    {
      "cell_type": "markdown",
      "source": [
        "## EDA"
      ],
      "metadata": {
        "id": "S9p1BV1Sdtx6"
      }
    },
    {
      "cell_type": "code",
      "source": [
        "# See amount of unique songs\n",
        "df_joined.select([\"name\",\"artist\"]).distinct().count()"
      ],
      "metadata": {
        "id": "W7W-KblydyJ3"
      },
      "execution_count": null,
      "outputs": []
    },
    {
      "cell_type": "code",
      "source": [
        "# Create a temporary view that can run SQL tables\n",
        "df_joined.createOrReplaceTempView(\"df_table\")\n",
        "\n",
        "# MAGIC %md\n",
        "# MAGIC #EDA"
      ],
      "metadata": {
        "id": "2gw6ldHLd4HS"
      },
      "execution_count": null,
      "outputs": []
    },
    {
      "cell_type": "code",
      "source": [
        "# Most popular artist (by sum of popularity of songs)\n",
        "query = \"\"\"\n",
        "SELECT\n",
        "Artist,\n",
        "ROUND(SUM(popularity), 2) AS Populartiy\n",
        "FROM df_table\n",
        "WHERE YEAR(release_date) >= YEAR(CURRENT_DATE) - 50\n",
        "GROUP BY Artist\n",
        "ORDER BY AVG(Popularity) DESC\n",
        "LIMIT 10\n",
        "\"\"\"\n",
        "\n",
        "spark.sql(query).display()"
      ],
      "metadata": {
        "id": "a2aJ1cMhd63f"
      },
      "execution_count": null,
      "outputs": []
    },
    {
      "cell_type": "code",
      "source": [
        "# Most popular song with their corresponding artists.\n",
        "query = \"\"\"\n",
        "SELECT\n",
        "artist, name, release_date,\n",
        "ROUND(AVG(popularity), 2) AS populartiy\n",
        "FROM df_table\n",
        "GROUP BY artist, name, release_date\n",
        "ORDER BY AVG(popularity) DESC\n",
        "LIMIT 10\n",
        "\"\"\"\n",
        "\n",
        "spark.sql(query).display()"
      ],
      "metadata": {
        "id": "zrjFdOZPd_QO"
      },
      "execution_count": null,
      "outputs": []
    },
    {
      "cell_type": "code",
      "source": [
        "# Most popular song per decade\n",
        "query = \"\"\"\n",
        "SELECT\n",
        "    ROUND(Year(release_date), -1) as Decade,\n",
        "    ROUND(Max(popularity), 2) as Popularity,\n",
        "    SUBSTRING(MAX(CONCAT(LPAD(Popularity, 11, 0), name)), 12) AS Title,\n",
        "    SUBSTRING(MAX(CONCAT(LPAD(Popularity, 11, 0), artist)), 12) AS Artist\n",
        "FROM\n",
        "    df_table\n",
        "WHERE\n",
        "    WHERE YEAR(release_date) >= YEAR(CURRENT_DATE) - 50\n",
        "GROUP BY Decade\n",
        "ORDER BY Decade ASC\n",
        "\"\"\"\n",
        "\n",
        "spark.sql(query).display()"
      ],
      "metadata": {
        "id": "WyEB_uOheBt9"
      },
      "execution_count": null,
      "outputs": []
    },
    {
      "cell_type": "code",
      "source": [
        "# Most popular song by danceability\n",
        "query = \"\"\"\n",
        "SELECT Name, Artist, Danceability, ROUND(COUNT(Popularity), 2) AS Populartiy\n",
        "FROM df_table\n",
        "GROUP BY Danceability, Name, Artist\n",
        "ORDER BY AVG(Popularity) DESC\n",
        "LIMIT 10\n",
        "\"\"\"\n",
        "\n",
        "spark.sql(query).display()"
      ],
      "metadata": {
        "id": "SO-8kHFLeDjN"
      },
      "execution_count": null,
      "outputs": []
    },
    {
      "cell_type": "code",
      "execution_count": null,
      "metadata": {
        "id": "JeBZ79nga4Ur"
      },
      "outputs": [],
      "source": [
        "# How has music changed over the decades?\n",
        "# Calculate average values for various audio features based on popularity\n",
        "query=\"\"\"\n",
        "SELECT\n",
        "    ROUND(YEAR(release_date), -1) AS Decade,\n",
        "    SUBSTRING(MAX(CONCAT(LPAD(Popularity, 11, 0), instrumentalness)), 12) AS Instrumentalness,\n",
        "    SUBSTRING(MAX(CONCAT(LPAD(Popularity, 11, 0), acousticness)), 12) AS Acousticness,\n",
        "    SUBSTRING(MAX(CONCAT(LPAD(Popularity, 11, 0), energy)), 12) AS Energy,\n",
        "    SUBSTRING(MAX(CONCAT(LPAD(Popularity, 11, 0), danceability)), 12) AS Dancability,\n",
        "    SUBSTRING(MAX(CONCAT(LPAD(Popularity, 11, 0), valence)), 12) AS Valence,\n",
        "    SUBSTRING(MAX(CONCAT(LPAD(Popularity, 11, 0), liveness)), 12) AS Liveness,\n",
        "    SUBSTRING(MAX(CONCAT(LPAD(Popularity, 11, 0), loudness)), 12) AS Loudness,\n",
        "    SUBSTRING(MAX(CONCAT(LPAD(Popularity, 11, 0), speechiness)), 12) AS Speechiness\n",
        "FROM\n",
        "    df_table\n",
        "WHERE\n",
        "    YEAR(release_date) >= YEAR(CURRENT_DATE) - 50\n",
        "GROUP BY\n",
        "    ROUND(YEAR(release_date), -1)\n",
        "ORDER BY Decade ASC\n",
        "\"\"\"\n",
        "\n",
        "spark.sql(query).display()"
      ]
    },
    {
      "cell_type": "code",
      "source": [
        "# How has music changed over the decades?\n",
        "# Calculate average values for various audio features\n",
        "\n",
        "query=\"\"\"\n",
        "SELECT\n",
        "    ROUND(YEAR(release_date), -1) AS Decade,\n",
        "    AVG(danceability) AS Danceability,\n",
        "    AVG(energy) AS Energy,\n",
        "    AVG(instrumentalness) AS Instrumentalness,\n",
        "    AVG(valence) AS Valence,\n",
        "    AVG(liveness) AS Liveness,\n",
        "    AVG(speechiness) AS Speechiness,\n",
        "    AVG(loudness) as Loudness,\n",
        "    AVG(acousticness) as Acousticness\n",
        "FROM\n",
        "    df_table\n",
        "WHERE\n",
        "    YEAR(release_date) >= YEAR(CURRENT_DATE) - 50\n",
        "GROUP BY\n",
        "    ROUND(YEAR(release_date), -1)\n",
        "ORDER BY Decade ASC\n",
        "\"\"\"\n",
        "\n",
        "spark.sql(query).display()\n",
        "\n",
        "\n",
        "query=\"\"\"\n",
        "SELECT\n",
        "    FLOOR(danceability * 10) / 10 AS Danceability,\n",
        "    explicit AS Explicit\n",
        "FROM\n",
        "    df_table\n",
        "\"\"\"\n",
        "spark.sql(query).display()\n",
        "\n",
        "\n",
        "query=\"\"\"\n",
        "SELECT\n",
        "    ROUND(acousticness, 1) AS Acousticness,\n",
        "    popularity AS Popularity\n",
        "FROM\n",
        "    df_table\n",
        "\"\"\"\n",
        "spark.sql(query).display()\n",
        "\n",
        "\n",
        "query=\"\"\"\n",
        "SELECT\n",
        "    YEAR(release_date) AS Year,\n",
        "    PERCENTILE_APPROX(duration_ms, 0.5) AS Duration\n",
        "FROM\n",
        "    df_table\n",
        "WHERE\n",
        "    YEAR(release_date) BETWEEN 1970 AND 2022\n",
        "GROUP BY\n",
        " YEAR(release_date)\n",
        "\"\"\"\n",
        "spark.sql(query).display()"
      ],
      "metadata": {
        "id": "I43-aYGueLt1"
      },
      "execution_count": null,
      "outputs": []
    },
    {
      "cell_type": "code",
      "source": [],
      "metadata": {
        "id": "jFQxdi5odw_9"
      },
      "execution_count": null,
      "outputs": []
    }
  ]
}