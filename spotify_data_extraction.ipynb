{
  "nbformat": 4,
  "nbformat_minor": 0,
  "metadata": {
    "colab": {
      "provenance": []
    },
    "kernelspec": {
      "name": "python3",
      "display_name": "Python 3"
    },
    "language_info": {
      "name": "python"
    }
  },
  "cells": [
    {
      "cell_type": "markdown",
      "source": [
        "Using Databricks, here is an example of spotify data extraction."
      ],
      "metadata": {
        "id": "agr8WO4kZjkj"
      }
    },
    {
      "cell_type": "code",
      "source": [
        "# Import packages\n",
        "import spotipy\n",
        "from spotipy.oauth2 import SpotifyOAuth\n",
        "import base64\n",
        "import pandas as pd\n",
        "import time\n",
        "import json"
      ],
      "metadata": {
        "id": "N6GPIUCGZXsG"
      },
      "execution_count": null,
      "outputs": []
    },
    {
      "cell_type": "code",
      "source": [
        "client_id = 'xxxxxxxxxxxxxxxxxxxxxxxxxxxxxxxxxxx' # Insert client_id and client_secret\n",
        "client_secret = 'xxxxxxxxxxxxxxxxxxxxxxxxxxxxxxxxxxx'\n",
        "redirect_uri = 'http://localhost:3000'\n",
        "scope = 'user-library-read'\n",
        "sp_oauth = SpotifyOAuth(client_id, client_secret, redirect_uri, scope=scope)\n",
        "\n",
        "auth_url = sp_oauth.get_authorize_url()\n",
        "print(\"Visit this URL to authorize your application: \" + auth_url)\n",
        "response = input(\"Enter the URL you were redirected to: \")"
      ],
      "metadata": {
        "id": "Kqg3ZnwXZqmQ"
      },
      "execution_count": null,
      "outputs": []
    },
    {
      "cell_type": "code",
      "source": [
        "# Get the authorization code from the URL\n",
        "code = sp_oauth.parse_response_code(response)\n",
        "print(\"Authorization_code: \",code)"
      ],
      "metadata": {
        "id": "hidIYf42ZzhH"
      },
      "execution_count": null,
      "outputs": []
    },
    {
      "cell_type": "code",
      "source": [
        "# Spotify API endpoint for token retrieval\n",
        "token_url = 'https://accounts.spotify.com/api/token'\n",
        "\n",
        "# Define the payload for token retrieval\n",
        "data = {\n",
        "    'code': code,\n",
        "    'redirect_uri': redirect_uri,\n",
        "    'grant_type': \"authorization_code\"\n",
        "}"
      ],
      "metadata": {
        "id": "M9ui4P7IZ0FU"
      },
      "execution_count": null,
      "outputs": []
    },
    {
      "cell_type": "code",
      "source": [
        "auth_header = {\n",
        "    'Authorization': 'Basic ' + base64.b64encode(f'{client_id}:{client_secret}'.encode()).decode()\n",
        "}\n",
        "\n",
        "# Request the access token\n",
        "response = requests.post(token_url, data=data, headers=auth_header)\n",
        "token_data = response.json()\n",
        "print(token_data)"
      ],
      "metadata": {
        "id": "cfLz2lHgZ-CQ"
      },
      "execution_count": null,
      "outputs": []
    },
    {
      "cell_type": "code",
      "source": [
        "access_token ='xxxxxxxxxxxxxxxxxxxxxxxxxxxxxxxxxxxxx' # Insert access_token"
      ],
      "metadata": {
        "id": "gA0y80B9aA6z"
      },
      "execution_count": null,
      "outputs": []
    },
    {
      "cell_type": "code",
      "source": [
        "        def API_search_request(query, results_limit, results_offset, xtrack):\n",
        "\n",
        "            off = str(results_offset)\n",
        "            lim = str(results_limit)\n",
        "            url = \"https://api.spotify.com/v1/search\"\n",
        "            headers = {'Authorization': f'Bearer {access_token}'}\n",
        "            params = {\"q\": query, \"type\": \"track\", \"limit\": lim, \"offset\": off}\n",
        "\n",
        "            response = requests.get(url, headers=headers, params=params)\n",
        "            df1 = None\n",
        "\n",
        "            if response.status_code == 200:\n",
        "                data = response.json()\n",
        "                items = data.get('tracks', {}).get('items', [])\n",
        "\n",
        "                for i in items:\n",
        "                    k = {\n",
        "                        'popularity': i.get('popularity', None),\n",
        "                        'song_id': i.get('id', None),\n",
        "                        'artist_id': i['artists'][0].get('id', None),\n",
        "                        'album_id': i['album'].get('id', None),\n",
        "                        'name': i.get('name', None),\n",
        "                        'artist_name': i['artists'][0].get('name', None),\n",
        "                        'album_name': i['album'].get('name', None),\n",
        "                        'explicit': i.get('explicit', False),\n",
        "                        'disc_number': i.get('disc_number', None),\n",
        "                        'track_number': i.get('track_number', None)\n",
        "                    }\n",
        "                    xtrack.append(k)\n",
        "                    df1 = pd.DataFrame (xtrack)\n",
        "\n",
        "\n",
        "            else:\n",
        "                print(f\"Request failed with status code: {response.status_code}\")\n",
        "                print(response.text)\n",
        "\n",
        "            xaudio=[]\n",
        "\n",
        "            if df1 is not None:\n",
        "                song_id = df1['song_id']\n",
        "                url = 'https://api.spotify.com/v1/audio-features'\n",
        "                headers = {\"Authorization\": \"Bearer \" + access_token, \"Accept\": \"application/json\"}\n",
        "\n",
        "                # Define the batch size (50 in this case)\n",
        "                batch_size = 50\n",
        "\n",
        "                # Create a loop to process the track IDs in batches\n",
        "                for i in range(0, len(song_id), batch_size):\n",
        "                    batch_ids = song_id[i:i + batch_size]\n",
        "                    track_ids = ','.join(batch_ids)\n",
        "\n",
        "                    # Set the parameters for the request\n",
        "                    params = {'ids': track_ids}\n",
        "\n",
        "                    # Make the API request\n",
        "                    track_response = requests.get(url, headers=headers, params=params)\n",
        "\n",
        "                    if track_response.status_code == 200:\n",
        "                        audio_data = track_response.json()\n",
        "                        audio_features = audio_data.get('audio_features', [])\n",
        "\n",
        "                        for audio_feature in audio_features:\n",
        "                             if audio_feature is not None:\n",
        "                                k = {\n",
        "                                    \"acousticness\": audio_feature.get('acousticness', None),\n",
        "                                    \"danceability\": audio_feature.get('danceability', None),\n",
        "                                    \"duration_ms\": audio_feature.get('duration_ms', None),\n",
        "                                    \"song_id\": audio_feature.get('id', None),\n",
        "                                    \"instrumentalness\": audio_feature.get('instrumentalness', None),\n",
        "                                    \"energy\": audio_feature.get('energy', None),\n",
        "                                    \"key\": audio_feature.get('key', None),\n",
        "                                    \"liveness\": audio_feature.get('liveness', None),\n",
        "                                    \"loudness\": audio_feature.get('loudness', None),\n",
        "                                    \"mode\": audio_feature.get('mode', None),\n",
        "                                    \"speechiness\": audio_feature.get('speechiness', None),\n",
        "                                    \"valence\": audio_feature.get('valence', None),\n",
        "                                    \"tempo\": audio_feature.get('tempo', None),\n",
        "                                    \"time_signature\": audio_feature.get('time_signature', None),\n",
        "                                    \"genres\": audio_feature.get('genres', None),\n",
        "                                    \"release_date\": audio_feature.get('release_date', None)\n",
        "                                }\n",
        "                                xaudio.append(k)\n",
        "                    else:\n",
        "                        print(f\"Request failed with status code: {track_response.status_code}\")\n",
        "                        print(track_response.text)\n",
        "\n",
        "                    time.sleep(3)\n",
        "\n",
        "                df2= pd.DataFrame (xaudio)\n",
        "                df = df1.merge(df2, on='song_id', how='outer')\n",
        "\n",
        "                spark_df = spark.createDataFrame(df)\n",
        "                ## Write Frame out as Table\n",
        "                spark_df.write.mode(\"overwrite\").saveAsTable(\"df\")\n",
        "\n",
        "if __name__ == '__main__':\n",
        "    main()"
      ],
      "metadata": {
        "id": "IzGdbbKqaIyC"
      },
      "execution_count": null,
      "outputs": []
    }
  ]
}